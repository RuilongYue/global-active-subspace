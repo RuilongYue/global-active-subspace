{
 "cells": [
  {
   "attachments": {},
   "cell_type": "markdown",
   "metadata": {},
   "source": [
    "# Example 1: Normal distributed noise"
   ]
  },
  {
   "cell_type": "code",
   "execution_count": null,
   "metadata": {},
   "outputs": [],
   "source": [
    "from pyDOE import *\n",
    "from scipy import stats\n",
    "from scipy.stats import qmc, norm\n",
    "import matplotlib.pyplot as plt\n",
    "import numpy.random as R\n",
    "import global_as"
   ]
  },
  {
   "cell_type": "code",
   "execution_count": null,
   "metadata": {},
   "outputs": [],
   "source": [
    "Q = np.identity(10)\n",
    "dim = 10\n",
    "Q[:dim,:dim] = stats.ortho_group.rvs(dim=dim)\n",
    "a = 10**(np.array([2,-1,-1.5,-2,-2.5,-3,-3.5,-4,-4.5,-5]))"
   ]
  },
  {
   "attachments": {},
   "cell_type": "markdown",
   "metadata": {},
   "source": [
    "## AS results\n",
    "First, we apply active subspace method for different cases."
   ]
  },
  {
   "cell_type": "code",
   "execution_count": null,
   "metadata": {},
   "outputs": [],
   "source": [
    "epsilon = 0.00001\n",
    "def dFunc(x):\n",
    "    chi = x.shape[0]\n",
    "    xe = np.tile(x.transpose(), dim).transpose()+np.repeat(np.array(np.identity(dim)*epsilon), chi, axis=0)\n",
    "    return ((Func(xe)-np.tile(Func(x),dim))/epsilon).reshape(dim,chi)\n",
    "\n",
    "def Func(x1): \n",
    "    x = (x1@Q)**2*np.sqrt(a) \n",
    "    return np.sum(x,axis=1)\n",
    "\n",
    "chi = 10000\n",
    "epsilon = 10**-6\n",
    "z = R.uniform(0, 1, (chi, dim))\n",
    "deriv = dFunc(z)\n",
    "deriv /= np.sqrt(chi)\n",
    "uo, so, vho = np.linalg.svd(deriv.astype(float), full_matrices=True)  \n",
    "so = so**2\n",
    "\n",
    "def Func(x1): \n",
    "    x = (x1@Q)**2*np.sqrt(a) \n",
    "    return np.sum(x,axis=1) + R.normal(0,(1),x1.shape[0])\n",
    "\n",
    "z = R.uniform(0, 1, (chi, dim))\n",
    "u0list = []\n",
    "s0list = []\n",
    "for epsilon in [0.1,0.001,10**-5]:\n",
    "    deriv = dFunc(z)\n",
    "    deriv /= np.sqrt(chi)\n",
    "    u0, s0, vh0 = np.linalg.svd(deriv.astype(float), full_matrices=True) \n",
    "    s0 = s0**2\n",
    "    u0list.append(u0)\n",
    "    s0list.append(s0)"
   ]
  },
  {
   "cell_type": "code",
   "execution_count": null,
   "metadata": {},
   "outputs": [],
   "source": [
    "plt.rcParams['font.size'] = 14\n",
    "plt.figure(figsize=(7,7))\n",
    "plt.rc('font')\n",
    "k = s0.shape[0]\n",
    "plt.semilogy(range(1 ,k+1), so, 'o-',markersize=8,linewidth=2,label = 'No noise')\n",
    "plt.semilogy(range(1 ,k+1), s0list[0], ':',markersize=12,linewidth=2,label = '$h=10^{-1}$')\n",
    "plt.semilogy(range(1 ,k+1), s0list[1], '--',markersize=12,linewidth=2,label = '$h=10^{-3}$')\n",
    "plt.semilogy(range(1 ,k+1), s0list[2], '-.',markersize=12,linewidth=2,label = '$h=10^{-5}$')\n",
    "\n",
    "plt.title('Eigenvalues')\n",
    "plt.grid(True,linestyle = '--')\n",
    "plt.xticks(range(1, k+1))\n",
    "\n",
    "plt.legend()\n",
    "plt.show()"
   ]
  },
  {
   "cell_type": "code",
   "execution_count": null,
   "metadata": {},
   "outputs": [],
   "source": [
    "plt.rcParams['font.size'] = 14\n",
    "plt.figure(figsize=(7,7))\n",
    "plt.rc('font')\n",
    "k = s0.shape[0]\n",
    "plt.plot(range(1 ,k+1), uo[:,0], 'o-',markersize=8,linewidth=2,label = 'No noise')\n",
    "plt.plot(range(1 ,k+1), u0list[0][:,0], ':',markersize=12,linewidth=2,label = '$h=10^{-1}$')\n",
    "plt.plot(range(1 ,k+1), u0list[1][:,0], '--',markersize=12,linewidth=2,label = '$h=10^{-3}$')\n",
    "plt.plot(range(1 ,k+1), u0list[2][:,0], '-.',markersize=12,linewidth=2,label = '$h=10^{-5}$')\n",
    "\n",
    "plt.title('1st eigenvector')\n",
    "plt.grid(True,linestyle = '--')\n",
    "plt.xticks(range(1, k+1))\n",
    "\n",
    "plt.legend()\n",
    "plt.show()"
   ]
  },
  {
   "cell_type": "code",
   "execution_count": null,
   "metadata": {},
   "outputs": [],
   "source": [
    "plt.rcParams['font.size'] = 14\n",
    "plt.figure(figsize=(7,7))\n",
    "plt.rc('font')\n",
    "k = s0.shape[0]\n",
    "plt.plot(range(1 ,k+1), uo[:,1], 'o-',markersize=8,linewidth=2,label = 'No noise')\n",
    "plt.plot(range(1 ,k+1), u0list[0][:,1], ':',markersize=12,linewidth=2,label = '$h=10^{-1}$')\n",
    "plt.plot(range(1 ,k+1), u0list[1][:,1], '--',markersize=12,linewidth=2,label = '$h=10^{-3}$')\n",
    "plt.plot(range(1 ,k+1), u0list[2][:,1], '-.',markersize=12,linewidth=2,label = '$h=10^{-5}$')\n",
    "\n",
    "plt.title('2nd eigenvector')\n",
    "plt.grid(True,linestyle = '--')\n",
    "plt.xticks(range(1, k+1))\n",
    "\n",
    "plt.legend()\n",
    "plt.show()"
   ]
  },
  {
   "attachments": {},
   "cell_type": "markdown",
   "metadata": {},
   "source": [
    "## GAS results"
   ]
  },
  {
   "cell_type": "code",
   "execution_count": null,
   "metadata": {},
   "outputs": [],
   "source": [
    "def Func(x1): \n",
    "    x = (x1@Q)**2*np.sqrt(a)\n",
    "    return np.sum(x,axis=1)\n",
    "\n",
    "uo, so = global_as.GAS(Func,dim,chi,100,100,shiftedSobol=True) \n",
    "M1p = 100000\n",
    "M2p = 10\n",
    "z = R.normal(0, 1, (M1p, dim))\n",
    "C_u_1 = global_as.compute_C_u_1(z,Func,uo,M2p)"
   ]
  },
  {
   "cell_type": "code",
   "execution_count": null,
   "metadata": {},
   "outputs": [],
   "source": [
    "def Func(x1): \n",
    "    x = (x1@Q)**2*np.sqrt(a) \n",
    "    return np.sum(x,axis=1) + R.normal(0,0.01,x1.shape[0])\n",
    "ulist = []\n",
    "slist = []\n",
    "Clist = []\n",
    "M1p = 10000\n",
    "M2p = 10\n",
    "for M2 in [1,10,100]:\n",
    "    M1 = int(chi/M2)\n",
    "    u0, s0 = global_as.GAS(Func,dim,chi,M1,M2,shiftedSobol=True)\n",
    "    z = R.normal(0, 1, (M1p, dim))\n",
    "    ulist.append(u0)\n",
    "    slist.append(s0)\n",
    "    Clist.append((global_as.compute_C_u_1(z,Func,u0,M2p)))"
   ]
  },
  {
   "cell_type": "code",
   "execution_count": null,
   "metadata": {},
   "outputs": [],
   "source": [
    "plt.rcParams['font.size'] = 14\n",
    "plt.figure(figsize=(7,7))\n",
    "plt.rc('font')\n",
    "k = s0.shape[0]\n",
    "plt.semilogy(range(1 ,k+1), C_u_1, 'o-',markersize=8,linewidth=2,label = 'No noise')\n",
    "plt.semilogy(range(1 ,k+1), Clist[0], ':',markersize=12,linewidth=2,label = '$M_2=1$')\n",
    "plt.semilogy(range(1 ,k+1), Clist[1], '--',markersize=12,linewidth=2,label = '$M_2=10$')\n",
    "plt.semilogy(range(1 ,k+1), Clist[2], '-.',markersize=12,linewidth=2,label = '$M_2=100$')\n",
    "\n",
    "plt.title(r\"$\\Gamma_i$\")\n",
    "plt.grid(True,linestyle = '--')\n",
    "plt.xticks(range(1, k+1))\n",
    "\n",
    "plt.legend()\n",
    "plt.show()"
   ]
  },
  {
   "cell_type": "code",
   "execution_count": null,
   "metadata": {},
   "outputs": [],
   "source": [
    "plt.rcParams['font.size'] = 14\n",
    "plt.figure(figsize=(7,7))\n",
    "plt.rc('font')\n",
    "k = s0.shape[0]\n",
    "plt.plot(range(1 ,k+1), uo[:,0], 'o-',label = 'No noise')\n",
    "plt.plot(range(1 ,k+1), ulist[0][:,0], ':',markersize=12,linewidth=2,label = '$M_2=1$')\n",
    "plt.plot(range(1 ,k+1), ulist[1][:,0], '--',markersize=12,linewidth=2,label = '$M_2=10$')\n",
    "plt.plot(range(1 ,k+1), ulist[2][:,0], '-.',markersize=12,linewidth=2,label = '$M_2=100$')\n",
    "\n",
    "plt.title('1st eigenvector')\n",
    "plt.grid(True,linestyle = '--')\n",
    "plt.xticks(range(1, k+1))\n",
    "\n",
    "plt.legend()\n",
    "plt.show()"
   ]
  },
  {
   "cell_type": "code",
   "execution_count": null,
   "metadata": {},
   "outputs": [],
   "source": [
    "plt.rcParams['font.size'] = 14\n",
    "plt.figure(figsize=(7,7))\n",
    "plt.rc('font')\n",
    "k = s0.shape[0]\n",
    "plt.plot(range(1 ,k+1), uo[:,1], 'o-',label = 'No noise')\n",
    "plt.plot(range(1 ,k+1), -ulist[0][:,1], ':',markersize=12,linewidth=2,label = '$M_2=1$')\n",
    "plt.plot(range(1 ,k+1), -ulist[1][:,1], '--',markersize=12,linewidth=2,label = '$M_2=10$')\n",
    "plt.plot(range(1 ,k+1), ulist[2][:,1], '-.',markersize=12,linewidth=2,label = '$M_2=100$')\n",
    "\n",
    "plt.title('2nd eigenvector')\n",
    "plt.grid(True,linestyle = '--')\n",
    "plt.xticks(range(1, k+1))\n",
    "\n",
    "plt.legend()\n",
    "plt.show()"
   ]
  }
 ],
 "metadata": {
  "kernelspec": {
   "display_name": "Python 3",
   "language": "python",
   "name": "python3"
  },
  "language_info": {
   "codemirror_mode": {
    "name": "ipython",
    "version": 3
   },
   "file_extension": ".py",
   "mimetype": "text/x-python",
   "name": "python",
   "nbconvert_exporter": "python",
   "pygments_lexer": "ipython3",
   "version": "3.9.6"
  }
 },
 "nbformat": 4,
 "nbformat_minor": 2
}
