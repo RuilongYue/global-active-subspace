{
 "cells": [
  {
   "cell_type": "code",
   "execution_count": null,
   "metadata": {},
   "outputs": [],
   "source": [
    "import numpy as np\n",
    "import numpy.random as R\n",
    "from scipy.stats import qmc, norm\n",
    "import matplotlib.pyplot as plt\n",
    "import global_as\n",
    "\n",
    "epsilon = 0.001\n",
    "def dFunc(x):\n",
    "    chi, dim = x.shape[0], x.shape[1]\n",
    "    xe = np.tile(x.transpose(), dim).transpose()+np.repeat(np.array(np.identity(dim)*epsilon), chi, axis=0)\n",
    "    return ((Func(xe)-np.tile(Func(x),dim))/epsilon).reshape(dim,chi)"
   ]
  },
  {
   "cell_type": "code",
   "execution_count": null,
   "metadata": {},
   "outputs": [],
   "source": [
    "dim = 20\n",
    "theta = R.normal(0,1,dim)\n",
    "theta /= sum(theta**2)**0.5\n",
    "chi = 10000\n",
    "def Func(x):\n",
    "    return 1*(x@theta<0)"
   ]
  },
  {
   "cell_type": "code",
   "execution_count": null,
   "metadata": {},
   "outputs": [],
   "source": [
    "z = R.normal(0, 1, (chi, dim))\n",
    "u0list = []\n",
    "s0list = []\n",
    "for epsilon in [0.1,0.001,10**-5]:\n",
    "    deriv = dFunc(z)\n",
    "    deriv /= np.sqrt(chi)\n",
    "    u0, s0, vh0 = np.linalg.svd(deriv.astype(float), full_matrices=True) \n",
    "    s0 = s0**2\n",
    "    if np.corrcoef(u0[:,0],theta)[0,1]<0: u0[:,0] = -u0[:,0]\n",
    "    u0list.append(u0)\n",
    "    s0list.append(s0)"
   ]
  },
  {
   "cell_type": "code",
   "execution_count": null,
   "metadata": {},
   "outputs": [],
   "source": [
    "plt.rcParams['font.size'] = 14\n",
    "plt.figure(figsize=(7,7))\n",
    "plt.rc('font')\n",
    "k = s0.shape[0]\n",
    "plt.plot(range(1 ,k+1), theta, 'o-',markersize=8,linewidth=2,label = r\"$\\theta$\")\n",
    "plt.plot(range(1 ,k+1), u0list[0][:,0], ':',markersize=12,linewidth=2,label = '$h=10^{-1}$')\n",
    "plt.plot(range(1 ,k+1), u0list[1][:,0], '--',markersize=12,linewidth=2,label = '$h=10^{-3}$')\n",
    "plt.plot(range(1 ,k+1), u0list[2][:,0], '-.',markersize=12,linewidth=2,label = '$h=10^{-5}$')\n",
    "\n",
    "plt.title('1st eigenvector')\n",
    "plt.grid(True,linestyle = '--')\n",
    "plt.xticks(range(1, k+1))\n",
    "\n",
    "plt.legend()\n",
    "plt.show()"
   ]
  },
  {
   "cell_type": "code",
   "execution_count": null,
   "metadata": {},
   "outputs": [],
   "source": [
    "ulist = []\n",
    "slist = []\n",
    "for M2 in [1,10,100]:\n",
    "    M1 = int(chi/M2)\n",
    "    u0, _ = global_as.GAS(Func,dim,chi,M1,M2,shiftedSobol=True)\n",
    "    M1p = 100\n",
    "    M2p = 100\n",
    "    z = R.normal(0, 1, (M1p, dim))\n",
    "    if np.corrcoef(u0[:,0],theta)[0,1]<0: u0[:,0] = -u0[:,0]\n",
    "    ulist.append(u0)"
   ]
  },
  {
   "cell_type": "code",
   "execution_count": null,
   "metadata": {},
   "outputs": [],
   "source": [
    "plt.rcParams['font.size'] = 14\n",
    "plt.figure(figsize=(7,7))\n",
    "plt.rc('font')\n",
    "k = ulist[0][:,0].shape[0]\n",
    "plt.plot(range(1 ,k+1), theta, 'o-',label = r\"$\\theta$\")\n",
    "plt.plot(range(1 ,k+1), ulist[0][:,0], ':',markersize=12,linewidth=2,label = '$M_2=1$')\n",
    "plt.plot(range(1 ,k+1), ulist[1][:,0], '--',markersize=12,linewidth=2,label = '$M_2=10$')\n",
    "plt.plot(range(1 ,k+1), ulist[2][:,0], '-.',markersize=12,linewidth=2,label = '$M_2=100$')\n",
    "plt.ylim(-0.65,1.05)\n",
    "\n",
    "plt.title('1st eigenvector')\n",
    "plt.grid(True,linestyle = '--')\n",
    "plt.xticks(range(1, k+1))\n",
    "\n",
    "plt.legend()\n",
    "plt.show()"
   ]
  }
 ],
 "metadata": {
  "kernelspec": {
   "display_name": "Python 3",
   "language": "python",
   "name": "python3"
  },
  "language_info": {
   "codemirror_mode": {
    "name": "ipython",
    "version": 3
   },
   "file_extension": ".py",
   "mimetype": "text/x-python",
   "name": "python",
   "nbconvert_exporter": "python",
   "pygments_lexer": "ipython3",
   "version": "3.9.6"
  }
 },
 "nbformat": 4,
 "nbformat_minor": 2
}
