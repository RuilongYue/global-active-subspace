{
 "cells": [
  {
   "cell_type": "code",
   "execution_count": null,
   "metadata": {},
   "outputs": [],
   "source": [
    "import numpy as np\n",
    "import numpy.random as R\n",
    "import math\n",
    "import matplotlib.pyplot as plt\n",
    "from scipy.stats import qmc\n",
    "\n",
    "epsilon = 0.001\n",
    "def dFunc(x):\n",
    "    chi = x.shape[0]\n",
    "    xe = np.tile(x.transpose(), dim).transpose()+np.repeat(np.array(np.identity(dim)*epsilon), chi, axis=0)\n",
    "    return ((Func(xe)-np.tile(Func(x),dim))/epsilon).reshape(dim,chi)\n",
    "\n",
    "def dFunc0(x,Func,M2,shiftedSobol=True):\n",
    "    chi,dim = x.shape[0],x.shape[1]\n",
    "    temp = np.zeros((dim,chi*M2))\n",
    "\n",
    "    if(shiftedSobol == True):\n",
    "        rand_add = qmc.Sobol(dim, scramble=False).random(M2+1)[1:]        \n",
    "        for i in range(M2):       \n",
    "            xe = np.tile(x.transpose(), dim).transpose()*(1-np.repeat(np.array(np.identity(dim)), chi, axis=0))\n",
    "            rand = (x+rand_add[i])%1\n",
    "            xe += rand.T.reshape(dim*chi,1)*np.repeat(np.array(np.identity(dim)), chi, axis=0)\n",
    "            temp[:,i*(chi):(i+1)*(chi)] = ((Func(xe)-np.tile(Func(x),dim))/np.sum(xe-np.tile(x.transpose(),dim).transpose(),axis=1)).reshape(dim,chi)\n",
    "            \n",
    "    else:\n",
    "        for i in range(M2):       \n",
    "            xe = np.tile(x.transpose(), dim).transpose()*(1-np.repeat(np.array(np.identity(dim)), chi, axis=0))\n",
    "            rand = R.uniform(0,1,(chi,dim))\n",
    "            xe += rand.T.reshape(dim*chi,1)*np.repeat(np.array(np.identity(dim)), chi, axis=0)\n",
    "            temp[:,i*(chi):(i+1)*(chi)] = ((Func(xe)-np.tile(Func(x),dim))/np.sum(xe-np.tile(x.transpose(),dim).transpose(),axis=1)).reshape(dim,chi)    \n",
    "    return temp"
   ]
  },
  {
   "cell_type": "code",
   "execution_count": null,
   "metadata": {},
   "outputs": [],
   "source": [
    "#Liberian lower and upper parameter bounds\n",
    "lb_L = np.array([.1, .1, .05, .41, .0276, .081, .25, .0833])\n",
    "ub_L = np.array([.4, .4, .2, 1, .1702, .21, .5, .7])\n",
    "#Sierra Leone bounds\n",
    "lb_S = np.array([.1, .1, .05, .41, .0275, .1236, .25, .0833])\n",
    "ub_S = np.array([.4, .4, .2, 1, .1569, .384, .5, .7])\n",
    "\n",
    "def Func(x1):  \n",
    "    x = lb_L + x1*(ub_L-lb_L)\n",
    "    b1 = x[:,0]; b2 = x[:,1]; b3 = x[:,2]; r1 = x[:,3]\n",
    "    g1 = x[:,4]; g2 = x[:,5]; om = x[:,6]; p = x[:,7]\n",
    "    return (b1 + b2*r1*g1/om + b3*p/g2)/(g1 + p)\n",
    "#labels for plots\n",
    "in_labels = [r'$\\beta_1$', r'$\\beta_2$', r'$\\beta_3$', r'$\\rho_1$', r'$\\gamma_1$',\\\n",
    "            r'$\\gamma_2$', r'$\\omega$', r'$\\psi$']\n",
    "out_labels = ['Liberia', 'Sierra Leone']"
   ]
  },
  {
   "cell_type": "code",
   "execution_count": null,
   "metadata": {},
   "outputs": [],
   "source": [
    "# Active Subspace \n",
    "dim = 8\n",
    "chi = 10000\n",
    "epsilon = 0.001\n",
    "z = R.uniform(0, 1, (chi, dim))\n",
    "\n",
    "deriv = dFunc(z)\n",
    "deriv /= np.sqrt(chi)\n",
    "u0, s0, vh0 = np.linalg.svd(deriv.astype(float), full_matrices=True)   \n",
    "\n",
    "s0 = s0**2\n",
    "print('Cumulative explained variance (first 10):',(np.cumsum(s0)/np.sum(s0))[:10])\n",
    "print('The 1st eigenvector (first 10):',u0[:10,0])"
   ]
  },
  {
   "cell_type": "code",
   "execution_count": null,
   "metadata": {},
   "outputs": [],
   "source": [
    "plt.rcParams['font.size'] = 14\n",
    "plt.figure(figsize=(7,7))\n",
    "plt.rc('font')\n",
    "k = s0.shape[0]\n",
    "plt.semilogy(range(1 ,k+1), s0, 'ko-',markersize=12,linewidth=2)\n",
    "plt.xlabel('Index')\n",
    "plt.ylabel('Eigenvalues')\n",
    "plt.title('Liberia')\n",
    "plt.grid(True,linestyle = '--')\n",
    "plt.xticks(range(1, k+1))\n",
    "plt.axis([0, k+1, 0.1*np.amin(s0), 10*np.amax(s0)])\n",
    "\n",
    "plt.show()"
   ]
  },
  {
   "cell_type": "code",
   "execution_count": null,
   "metadata": {},
   "outputs": [],
   "source": [
    "# GAS\n",
    "dim = 8\n",
    "chi = 10000\n",
    "M2=10\n",
    "\n",
    "z = R.uniform(0, 1, (int(chi/M2), dim))\n",
    "deriv = dFunc0(z, Func, M2)\n",
    "deriv /= np.sqrt(chi)\n",
    "u, s, vh = np.linalg.svd(deriv.astype(float), full_matrices=True) \n",
    "\n",
    "s = s**2\n",
    "print('Cumulative explained variance (first 10):',(np.cumsum(s)/np.sum(s))[:10])\n",
    "print('The 1st eigenvector (first 10):',u[:10,0])"
   ]
  },
  {
   "cell_type": "code",
   "execution_count": null,
   "metadata": {},
   "outputs": [],
   "source": [
    "plt.rcParams['font.size'] = 14\n",
    "plt.figure(figsize=(7,7))\n",
    "plt.rc('font')\n",
    "k = s.shape[0]\n",
    "plt.semilogy(range(1 ,k+1), s, 'ko-',markersize=12,linewidth=2)\n",
    "plt.xlabel('Index')\n",
    "plt.ylabel('Eigenvalues')\n",
    "plt.title('Liberia')\n",
    "plt.grid(True,linestyle = '--')\n",
    "plt.xticks(range(1, k+1))\n",
    "plt.axis([0, k+1, 0.1*np.amin(s), 10*np.amax(s)])\n",
    "\n",
    "plt.show()"
   ]
  },
  {
   "attachments": {},
   "cell_type": "markdown",
   "metadata": {},
   "source": [
    "Change u0 to u below to get results of GAS method."
   ]
  },
  {
   "cell_type": "code",
   "execution_count": null,
   "metadata": {},
   "outputs": [],
   "source": [
    "dim = 8\n",
    "chi = 2000\n",
    "z = R.uniform(0, 1, (chi, dim))\n",
    "f = Func(z)\n",
    "y1 = np.dot(z,-u0[:,0])\n",
    "y2 = np.dot(z,-u0[:,1])\n",
    "\n",
    "out_label = 'Liberia'\n",
    "plt.figure(figsize=(7,7))\n",
    "plt.rc('font')\n",
    "plt.plot(y1, f, 'o', markersize=12,markerfacecolor='b', markeredgecolor='black')\n",
    "plt.xlabel('Active variable 1')\n",
    "plt.ylabel(out_label)\n",
    "plt.grid(True,linestyle = '--')"
   ]
  },
  {
   "cell_type": "code",
   "execution_count": null,
   "metadata": {},
   "outputs": [],
   "source": [
    "plt.figure(figsize=(7,7))\n",
    "plt.rc('font')\n",
    "plt.axes().set_aspect('equal')\n",
    "plt.scatter(y1, y2, c=f, s=150.0, vmin=np.min(f), vmax=np.max(f),cmap = 'jet', edgecolors='black')\n",
    "plt.xlabel('Active variable 1')\n",
    "plt.ylabel('Active variable 2')\n",
    "ymin = 1.1*np.amin([np.amin(y1), np.amin(y2)])\n",
    "ymax = 1.1*np.amax([np.amax(y1), np.amax(y2)])\n",
    "plt.grid(True,linestyle = '--')\n",
    "plt.title(out_label)\n",
    "plt.colorbar()"
   ]
  },
  {
   "cell_type": "code",
   "execution_count": null,
   "metadata": {},
   "outputs": [],
   "source": [
    "m = 8\n",
    "plt.figure(figsize=(7,7))\n",
    "plt.rc('font')\n",
    "plt.plot(range(1, m+1), -u0[:,0], 'ko-', markersize=12)\n",
    "plt.ylabel('Eigenvector 1 components')\n",
    "plt.title(out_label)\n",
    "plt.grid(True,linestyle = '--')\n",
    "plt.xticks(range(1, m+1), in_labels, rotation='vertical')\n",
    "plt.margins(0.2)\n",
    "plt.subplots_adjust(bottom=0.15)\n",
    "plt.axis([1, m, -1, 1])"
   ]
  }
 ],
 "metadata": {
  "kernelspec": {
   "display_name": "Python 3",
   "language": "python",
   "name": "python3"
  },
  "language_info": {
   "codemirror_mode": {
    "name": "ipython",
    "version": 3
   },
   "file_extension": ".py",
   "mimetype": "text/x-python",
   "name": "python",
   "nbconvert_exporter": "python",
   "pygments_lexer": "ipython3",
   "version": "3.9.6"
  }
 },
 "nbformat": 4,
 "nbformat_minor": 1
}
